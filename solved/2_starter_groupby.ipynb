{
 "cells": [
  {
   "cell_type": "code",
   "execution_count": 1,
   "metadata": {},
   "outputs": [],
   "source": [
    "import pandas as pd"
   ]
  },
  {
   "cell_type": "code",
   "execution_count": 2,
   "metadata": {},
   "outputs": [],
   "source": [
    "import pandas as pd\n",
    "\n",
    "\n",
    "df = pd.read_csv('../data/sales.csv', delimiter='|')\n",
    "top10 = df.groupby('country')['item_price'].sum() \\\n",
    "  .reset_index() \\\n",
    "  .sort_values('item_price', ascending=False) \\\n",
    "  .head(10)\n"
   ]
  },
  {
   "cell_type": "code",
   "execution_count": 3,
   "metadata": {},
   "outputs": [
    {
     "name": "stdout",
     "output_type": "stream",
     "text": [
      "country,item_price\n",
      "YE,720.75\n",
      "PL,635.91\n",
      "KM,595.8100000000001\n",
      "IS,589.34\n",
      "SC,563.7\n",
      "SR,532.04\n",
      "MR,522.32\n",
      "GU,519.09\n",
      "BQ,510.59000000000003\n",
      "GB,506.49\n"
     ]
    }
   ],
   "source": [
    "import sys\n",
    "top10.to_csv(sys.stdout, index=False)"
   ]
  }
 ],
 "metadata": {
  "kernelspec": {
   "display_name": ".wadus",
   "language": "python",
   "name": "python3"
  },
  "language_info": {
   "codemirror_mode": {
    "name": "ipython",
    "version": 3
   },
   "file_extension": ".py",
   "mimetype": "text/x-python",
   "name": "python",
   "nbconvert_exporter": "python",
   "pygments_lexer": "ipython3",
   "version": "3.11.7"
  }
 },
 "nbformat": 4,
 "nbformat_minor": 2
}
